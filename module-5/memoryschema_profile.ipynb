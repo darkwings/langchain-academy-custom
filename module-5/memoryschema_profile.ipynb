{
  "cells": [
    {
      "cell_type": "markdown",
      "metadata": {
        "id": "fjGU-HH17Lx6"
      },
      "source": [
        "# Chatbot with Profile Schema\n",
        "\n",
        "## Review\n",
        "\n",
        "We introduced the [LangGraph Memory Store](https://langchain-ai.github.io/langgraph/reference/store/#langgraph.store.base.BaseStore) as a way to save and retrieve long-term memories.\n",
        "\n",
        "We built a simple chatbot that uses both `short-term (within-thread)` and `long-term (across-thread)` memory.\n",
        "\n",
        "It saved long-term [semantic memory](https://langchain-ai.github.io/langgraph/concepts/memory/#semantic-memory) (facts about the user) [\"in the hot path\"](https://langchain-ai.github.io/langgraph/concepts/memory/#writing-memories), as the user is chatting with it.\n",
        "\n",
        "## Goals\n",
        "\n",
        "Our chatbot saved memories as a string. In practice, we often want memories to have a structure.\n",
        "\n",
        "For example, memories can be a [single, continuously updated schema]((https://langchain-ai.github.io/langgraph/concepts/memory/#profile)).\n",
        "\n",
        "In our case, we want this to be a single user profile.\n",
        "\n",
        "**We'll extend our chatbot to save semantic memories to a single [user profile](https://langchain-ai.github.io/langgraph/concepts/memory/#profile).**\n",
        "\n",
        "We'll also introduce a library, [Trustcall](https://github.com/hinthornw/trustcall), to update this schema with new information."
      ]
    },
    {
      "cell_type": "code",
      "execution_count": 1,
      "metadata": {
        "id": "itLr9Qcd7Lx8"
      },
      "outputs": [],
      "source": [
        "%%capture --no-stderr\n",
        "%pip install -U langchain_openai langgraph trustcall langchain_core"
      ]
    },
    {
      "cell_type": "code",
      "execution_count": 2,
      "metadata": {
        "id": "I8e9dYfs7Lx8",
        "outputId": "bb787084-2517-43ee-c165-c3a200832558",
        "colab": {
          "base_uri": "https://localhost:8080/"
        }
      },
      "outputs": [
        {
          "name": "stdout",
          "output_type": "stream",
          "text": [
            "LANGCHAIN_API_KEY: ··········\n"
          ]
        }
      ],
      "source": [
        "import os, getpass\n",
        "\n",
        "def _set_env(var: str):\n",
        "    # Check if the variable is set in the OS environment\n",
        "    env_value = os.environ.get(var)\n",
        "    if not env_value:\n",
        "        # If not set, prompt the user for input\n",
        "        env_value = getpass.getpass(f\"{var}: \")\n",
        "\n",
        "    # Set the environment variable for the current process\n",
        "    os.environ[var] = env_value\n",
        "\n",
        "_set_env(\"LANGCHAIN_API_KEY\")\n",
        "os.environ[\"LANGCHAIN_TRACING_V2\"] = \"true\"\n",
        "os.environ[\"LANGCHAIN_PROJECT\"] = \"langchain-academy\""
      ]
    },
    {
      "cell_type": "markdown",
      "metadata": {
        "id": "Cz0PEa_c7Lx9"
      },
      "source": [
        "## Defining a user profile schema\n",
        "\n",
        "Python has many different types for [structured data](https://python.langchain.com/docs/concepts/structured_outputs/#schema-definition), such as TypedDict, Dictionaries, JSON, and [Pydantic](https://docs.pydantic.dev/latest/).\n",
        "\n",
        "Let's start by using TypedDict to define a user profile schema."
      ]
    },
    {
      "cell_type": "code",
      "execution_count": 3,
      "metadata": {
        "id": "FMHd8QUQ7Lx9"
      },
      "outputs": [],
      "source": [
        "from typing import TypedDict, List\n",
        "\n",
        "class UserProfile(TypedDict):\n",
        "    \"\"\"User profile schema with typed fields\"\"\"\n",
        "    user_name: str  # The user's preferred name\n",
        "    interests: List[str]  # A list of the user's interests"
      ]
    },
    {
      "cell_type": "markdown",
      "metadata": {
        "id": "_YctOgbc7Lx9"
      },
      "source": [
        "## Saving a schema to the store\n",
        "\n",
        "The [LangGraph Store](https://langchain-ai.github.io/langgraph/reference/store/#langgraph.store.base.BaseStore) accepts any Python dictionary as the `value`."
      ]
    },
    {
      "cell_type": "code",
      "execution_count": 4,
      "metadata": {
        "id": "DqEDiQzc7Lx9",
        "outputId": "b6755c9f-fb28-48d9-9612-415821a46bc2",
        "colab": {
          "base_uri": "https://localhost:8080/"
        }
      },
      "outputs": [
        {
          "output_type": "execute_result",
          "data": {
            "text/plain": [
              "{'user_name': 'Lance', 'interests': ['biking', 'technology', 'coffee']}"
            ]
          },
          "metadata": {},
          "execution_count": 4
        }
      ],
      "source": [
        "# TypedDict instance\n",
        "user_profile: UserProfile = {\n",
        "    \"user_name\": \"Lance\",\n",
        "    \"interests\": [\"biking\", \"technology\", \"coffee\"]\n",
        "}\n",
        "user_profile"
      ]
    },
    {
      "cell_type": "markdown",
      "metadata": {
        "id": "JDwfpU_J7Lx9"
      },
      "source": [
        "We use the [put](https://langchain-ai.github.io/langgraph/reference/store/#langgraph.store.base.BaseStore.put) method to save the TypedDict to the store.\n",
        "\n",
        "**N.B. Remember, the Store works with a dict**. To store a Pydantic object we MUST convert it into a `dict`, with `model_dump()` method."
      ]
    },
    {
      "cell_type": "code",
      "execution_count": 5,
      "metadata": {
        "id": "v3YyspKi7Lx-"
      },
      "outputs": [],
      "source": [
        "import uuid\n",
        "from langgraph.store.memory import InMemoryStore\n",
        "\n",
        "# Initialize the in-memory store\n",
        "in_memory_store = InMemoryStore()\n",
        "\n",
        "# Namespace for the memory to save\n",
        "# (we go for a namespace for each user, in order to have a fixed key like 'user_profile')\n",
        "user_id = \"1\"\n",
        "namespace_for_memory = (user_id, \"memory\")\n",
        "\n",
        "# Save a memory to namespace as key and value\n",
        "key = \"user_profile\"\n",
        "value = user_profile\n",
        "in_memory_store.put(namespace_for_memory, key, value)"
      ]
    },
    {
      "cell_type": "markdown",
      "metadata": {
        "id": "Jw2GioOV7Lx-"
      },
      "source": [
        "We use [search](https://langchain-ai.github.io/langgraph/reference/store/#langgraph.store.base.BaseStore.search) to retrieve objects from the store by namespace."
      ]
    },
    {
      "cell_type": "code",
      "execution_count": 6,
      "metadata": {
        "id": "6ERrILgr7Lx-",
        "outputId": "14fa9fea-fbd5-4065-a167-76525ace26de",
        "colab": {
          "base_uri": "https://localhost:8080/"
        }
      },
      "outputs": [
        {
          "output_type": "stream",
          "name": "stdout",
          "text": [
            "{'namespace': ['1', 'memory'], 'key': 'user_profile', 'value': {'user_name': 'Lance', 'interests': ['biking', 'technology', 'coffee']}, 'created_at': '2024-12-27T16:47:56.299981+00:00', 'updated_at': '2024-12-27T16:47:56.299987+00:00', 'score': None}\n"
          ]
        }
      ],
      "source": [
        "# Search\n",
        "for m in in_memory_store.search(namespace_for_memory):\n",
        "    print(m.dict())"
      ]
    },
    {
      "cell_type": "markdown",
      "metadata": {
        "id": "1ORoNI9C7Lx-"
      },
      "source": [
        "We can also use [get](https://langchain-ai.github.io/langgraph/reference/store/#langgraph.store.base.BaseStore.get) to retrieve a specific object by namespace and key. In this case it's easy because, with namespace per user, we have a known key to retrieve."
      ]
    },
    {
      "cell_type": "code",
      "execution_count": 7,
      "metadata": {
        "id": "m8KJBdHX7Lx-",
        "outputId": "c07878f3-8cf7-4f45-92ff-672bddf9fbd1",
        "colab": {
          "base_uri": "https://localhost:8080/"
        }
      },
      "outputs": [
        {
          "output_type": "execute_result",
          "data": {
            "text/plain": [
              "{'user_name': 'Lance', 'interests': ['biking', 'technology', 'coffee']}"
            ]
          },
          "metadata": {},
          "execution_count": 7
        }
      ],
      "source": [
        "# Get the memory by namespace and key\n",
        "profile = in_memory_store.get(namespace_for_memory, \"user_profile\")\n",
        "profile.value"
      ]
    },
    {
      "cell_type": "markdown",
      "metadata": {
        "id": "MmzGTHIE7Lx-"
      },
      "source": [
        "## Chatbot with profile schema\n",
        "\n",
        "Now we know how to specify a schema for the memories and save it to the store.\n",
        "\n",
        "Now, how do we actually *create* memories with this particular schema?\n",
        "\n",
        "In our chatbot, we [want to create memories from a user chat](https://langchain-ai.github.io/langgraph/concepts/memory/#profile).\n",
        "\n",
        "This is where the concept of [structured outputs](https://python.langchain.com/docs/concepts/structured_outputs/#recommended-usage) is useful.\n",
        "\n",
        "LangChain's [chat model](https://python.langchain.com/docs/concepts/chat_models/) interface has a [`with_structured_output`](https://python.langchain.com/docs/concepts/structured_outputs/#recommended-usage) method to enforce structured output.\n",
        "\n",
        "\n",
        "\n",
        "> _Dietro le quinte, `with_structured_output` utilizza un processo simile alla chiamata di un tool. Sappiamo che i tools hanno la caratteristica di richiedere e restituire un output strutturato. In questo caso, il passaggio è lo stesso. Ci si assicura che l'output dell'operazione segua lo schema passato come riferimento._\n",
        "\n",
        "\n",
        "This is useful when we want to enforce that the output conforms to a schema, and it parses the output for us."
      ]
    },
    {
      "cell_type": "code",
      "execution_count": 8,
      "metadata": {
        "id": "cLYUW0mb7Lx-",
        "outputId": "c6a149f6-1c5b-49b7-9f3b-e12ea7ad9503",
        "colab": {
          "base_uri": "https://localhost:8080/"
        }
      },
      "outputs": [
        {
          "name": "stdout",
          "output_type": "stream",
          "text": [
            "OPENAI_API_KEY: ··········\n"
          ]
        }
      ],
      "source": [
        "_set_env(\"OPENAI_API_KEY\")"
      ]
    },
    {
      "cell_type": "markdown",
      "metadata": {
        "id": "Q3bakvjP7Lx-"
      },
      "source": [
        "Let's pass the `UserProfile` schema we created to the `with_structured_output` method.\n",
        "\n",
        "We can then invoke the chat model with a list of [messages](https://python.langchain.com/docs/concepts/messages/) and get a structured output that conforms to our schema."
      ]
    },
    {
      "cell_type": "code",
      "execution_count": 9,
      "metadata": {
        "id": "_L0HS3bd7Lx-",
        "outputId": "62d95996-7358-4b78-c141-960893aee480",
        "colab": {
          "base_uri": "https://localhost:8080/"
        }
      },
      "outputs": [
        {
          "output_type": "execute_result",
          "data": {
            "text/plain": [
              "{'user_name': 'Matt', 'interests': ['play guitar']}"
            ]
          },
          "metadata": {},
          "execution_count": 9
        }
      ],
      "source": [
        "from pydantic import BaseModel, Field\n",
        "\n",
        "from langchain_core.messages import HumanMessage\n",
        "from langchain_openai import ChatOpenAI\n",
        "\n",
        "# Initialize the model\n",
        "model = ChatOpenAI(model=\"gpt-4o\", temperature=0)\n",
        "\n",
        "# Bind schema to model\n",
        "model_with_structure = model.with_structured_output(UserProfile)\n",
        "\n",
        "# Invoke the model to produce structured output that matches the schema\n",
        "structured_output = model_with_structure.invoke([HumanMessage(\"My name is Matt, I like to play guitar.\")])\n",
        "structured_output"
      ]
    },
    {
      "cell_type": "markdown",
      "metadata": {
        "id": "-_SpRPoA7Lx_"
      },
      "source": [
        "Now, let's use this with our chatbot.\n",
        "\n",
        "This only requires minor changes to the `write_memory` function.\n",
        "\n",
        "We use `model_with_structure`, as defined above, to produce a profile that matches our schema."
      ]
    },
    {
      "cell_type": "code",
      "execution_count": 10,
      "metadata": {
        "id": "EhKrzK-o7Lx_",
        "outputId": "d61b0f20-36a8-4661-c968-4f8f4963bc88",
        "colab": {
          "base_uri": "https://localhost:8080/",
          "height": 350
        }
      },
      "outputs": [
        {
          "output_type": "display_data",
          "data": {
            "image/png": "[encoded data removed]",
            "text/plain": [
              "<IPython.core.display.Image object>"
            ]
          },
          "metadata": {}
        }
      ],
      "source": [
        "from IPython.display import Image, display\n",
        "\n",
        "from langgraph.checkpoint.memory import MemorySaver\n",
        "from langgraph.graph import StateGraph, MessagesState, START, END\n",
        "from langgraph.store.base import BaseStore\n",
        "\n",
        "from langchain_core.messages import HumanMessage, SystemMessage, AIMessage\n",
        "from langchain_core.runnables.config import RunnableConfig\n",
        "\n",
        "# Chatbot instruction\n",
        "MODEL_SYSTEM_MESSAGE = \"\"\"You are a helpful assistant with memory that provides information about the user.\n",
        "If you have memory for this user, use it to personalize your responses.\n",
        "Here is the memory (it may be empty): {memory}\"\"\"\n",
        "\n",
        "# Create new memory from the chat history and any existing memory\n",
        "CREATE_MEMORY_INSTRUCTION = \"\"\"Create or update a user profile memory based on the user's chat history.\n",
        "This will be saved for long-term memory. If there is an existing memory, simply update it.\n",
        "Here is the existing memory (it may be empty): {memory}\"\"\"\n",
        "\n",
        "def call_model(state: MessagesState, config: RunnableConfig, store: BaseStore):\n",
        "\n",
        "    \"\"\"Load memory from the store and use it to personalize the chatbot's response.\"\"\"\n",
        "\n",
        "    # Get the user ID from the config\n",
        "    user_id = config[\"configurable\"][\"user_id\"]\n",
        "\n",
        "    # Retrieve memory from the store\n",
        "    namespace = (\"memory\", user_id)\n",
        "    existing_memory = store.get(namespace, \"user_memory\")\n",
        "\n",
        "    # Format the memories for the system prompt\n",
        "    if existing_memory and existing_memory.value:\n",
        "        memory_dict = existing_memory.value\n",
        "        formatted_memory = (\n",
        "            f\"Name: {memory_dict.get('user_name', 'Unknown')}\\n\"\n",
        "            f\"Interests: {', '.join(memory_dict.get('interests', []))}\"\n",
        "        )\n",
        "    else:\n",
        "        formatted_memory = None\n",
        "\n",
        "    # Format the memory in the system prompt\n",
        "    system_msg = MODEL_SYSTEM_MESSAGE.format(memory=formatted_memory)\n",
        "\n",
        "    # Respond using memory as well as the chat history\n",
        "    response = model.invoke([SystemMessage(content=system_msg)]+state[\"messages\"])\n",
        "\n",
        "    return {\"messages\": response}\n",
        "\n",
        "def write_memory(state: MessagesState, config: RunnableConfig, store: BaseStore):\n",
        "\n",
        "    \"\"\"Reflect on the chat history and save a memory to the store.\"\"\"\n",
        "\n",
        "    # Get the user ID from the config\n",
        "    user_id = config[\"configurable\"][\"user_id\"]\n",
        "\n",
        "    # Retrieve existing memory from the store\n",
        "    namespace = (\"memory\", user_id)\n",
        "    existing_memory = store.get(namespace, \"user_memory\")\n",
        "\n",
        "    # Format the memories for the system prompt\n",
        "    # This is the CORE point, we format the memory using UserProfile schema\n",
        "    if existing_memory and existing_memory.value:\n",
        "        memory_dict = existing_memory.value\n",
        "        formatted_memory = (\n",
        "            f\"Name: {memory_dict.get('user_name', 'Unknown')}\\n\"\n",
        "            f\"Interests: {', '.join(memory_dict.get('interests', []))}\"\n",
        "        )\n",
        "    else:\n",
        "        formatted_memory = None\n",
        "\n",
        "    # Format the existing memory in the instruction\n",
        "    system_msg = CREATE_MEMORY_INSTRUCTION.format(memory=formatted_memory)\n",
        "\n",
        "    # Invoke the model to produce structured output that matches the schema\n",
        "    new_memory = model_with_structure.invoke([SystemMessage(content=system_msg)]+state['messages'])\n",
        "\n",
        "    # Overwrite the existing use profile memory\n",
        "    key = \"user_memory\"\n",
        "    store.put(namespace, key, new_memory)\n",
        "\n",
        "# Define the graph\n",
        "builder = StateGraph(MessagesState)\n",
        "builder.add_node(\"call_model\", call_model)\n",
        "builder.add_node(\"write_memory\", write_memory)\n",
        "builder.add_edge(START, \"call_model\")\n",
        "builder.add_edge(\"call_model\", \"write_memory\")\n",
        "builder.add_edge(\"write_memory\", END)\n",
        "\n",
        "# Store for long-term (across-thread) memory\n",
        "across_thread_memory = InMemoryStore()\n",
        "\n",
        "# Checkpointer for short-term (within-thread) memory\n",
        "within_thread_memory = MemorySaver()\n",
        "\n",
        "# Compile the graph with the checkpointer fir and store\n",
        "graph = builder.compile(checkpointer=within_thread_memory, store=across_thread_memory)\n",
        "\n",
        "# View\n",
        "display(Image(graph.get_graph(xray=1).draw_mermaid_png()))"
      ]
    },
    {
      "cell_type": "code",
      "execution_count": 12,
      "metadata": {
        "id": "0UW_RWr17Lx_",
        "outputId": "a2ef43ba-1f17-4d26-fd89-53f390a85de6",
        "colab": {
          "base_uri": "https://localhost:8080/"
        }
      },
      "outputs": [
        {
          "output_type": "stream",
          "name": "stdout",
          "text": [
            "================================\u001b[1m Human Message \u001b[0m=================================\n",
            "\n",
            "Hi, my name is Matt and I like to bike around Jackpot (Nevada) and eat at bakeries.\n",
            "==================================\u001b[1m Ai Message \u001b[0m==================================\n",
            "\n",
            "Hi Matt! Biking around Jackpot, Nevada, must offer some unique and scenic routes. While Jackpot might not have as many bakeries as San Francisco, discovering local spots can be a fun adventure. Have you found any favorite bakeries in that area?\n"
          ]
        }
      ],
      "source": [
        "# We supply a thread ID for short-term (within-thread) memory\n",
        "# We supply a user ID for long-term (across-thread) memory\n",
        "config = {\"configurable\": {\"thread_id\": \"1\", \"user_id\": \"1\"}}\n",
        "\n",
        "# User input\n",
        "input_messages = [HumanMessage(content=\"Hi, my name is Matt and I like to bike around Jackpot (Nevada) and eat at bakeries.\")]\n",
        "\n",
        "# Run the graph\n",
        "for chunk in graph.stream({\"messages\": input_messages}, config, stream_mode=\"values\"):\n",
        "    chunk[\"messages\"][-1].pretty_print()"
      ]
    },
    {
      "cell_type": "markdown",
      "metadata": {
        "id": "4CJOLZeO7Lx_"
      },
      "source": [
        "Let's check the memory in the store.\n",
        "\n",
        "We can see that the memory is a dictionary that matches our schema."
      ]
    },
    {
      "cell_type": "code",
      "execution_count": 13,
      "metadata": {
        "id": "ZKoC0HDN7Lx_",
        "outputId": "3ac20f43-332d-4296-8c4b-751d1bd7b614",
        "colab": {
          "base_uri": "https://localhost:8080/"
        }
      },
      "outputs": [
        {
          "output_type": "execute_result",
          "data": {
            "text/plain": [
              "{'user_name': 'Matt',\n",
              " 'interests': ['biking', 'bakeries', 'San Francisco', 'Jackpot, Nevada']}"
            ]
          },
          "metadata": {},
          "execution_count": 13
        }
      ],
      "source": [
        "# Namespace for the memory to save\n",
        "user_id = \"1\"\n",
        "namespace = (\"memory\", user_id)\n",
        "existing_memory = across_thread_memory.get(namespace, \"user_memory\")\n",
        "existing_memory.value"
      ]
    },
    {
      "cell_type": "markdown",
      "metadata": {
        "id": "dIjKxvGr7Lx_"
      },
      "source": [
        "## When can this fail?\n",
        "\n",
        "[`with_structured_output`](https://python.langchain.com/docs/concepts/structured_outputs/#recommended-usage) is very useful, but what happens if we're working with a more complex schema?\n",
        "\n",
        "[Here's](https://github.com/hinthornw/trustcall?tab=readme-ov-file#complex-schema) an example of a more complex schema, which we'll test below.\n",
        "\n",
        "This is a [Pydantic](https://docs.pydantic.dev/latest/) model that describes a user's preferences for communication and trust fall."
      ]
    },
    {
      "cell_type": "code",
      "execution_count": 14,
      "metadata": {
        "id": "vAp588Um7Lx_"
      },
      "outputs": [],
      "source": [
        "from typing import List, Optional\n",
        "\n",
        "class OutputFormat(BaseModel):\n",
        "    preference: str\n",
        "    sentence_preference_revealed: str\n",
        "\n",
        "class TelegramPreferences(BaseModel):\n",
        "    preferred_encoding: Optional[List[OutputFormat]] = None\n",
        "    favorite_telegram_operators: Optional[List[OutputFormat]] = None\n",
        "    preferred_telegram_paper: Optional[List[OutputFormat]] = None\n",
        "\n",
        "class MorseCode(BaseModel):\n",
        "    preferred_key_type: Optional[List[OutputFormat]] = None\n",
        "    favorite_morse_abbreviations: Optional[List[OutputFormat]] = None\n",
        "\n",
        "class Semaphore(BaseModel):\n",
        "    preferred_flag_color: Optional[List[OutputFormat]] = None\n",
        "    semaphore_skill_level: Optional[List[OutputFormat]] = None\n",
        "\n",
        "class TrustFallPreferences(BaseModel):\n",
        "    preferred_fall_height: Optional[List[OutputFormat]] = None\n",
        "    trust_level: Optional[List[OutputFormat]] = None\n",
        "    preferred_catching_technique: Optional[List[OutputFormat]] = None\n",
        "\n",
        "class CommunicationPreferences(BaseModel):\n",
        "    telegram: TelegramPreferences\n",
        "    morse_code: MorseCode\n",
        "    semaphore: Semaphore\n",
        "\n",
        "class UserPreferences(BaseModel):\n",
        "    communication_preferences: CommunicationPreferences\n",
        "    trust_fall_preferences: TrustFallPreferences\n",
        "\n",
        "class TelegramAndTrustFallPreferences(BaseModel):\n",
        "    pertinent_user_preferences: UserPreferences"
      ]
    },
    {
      "cell_type": "markdown",
      "metadata": {
        "id": "4j3XRpkw7Lx_"
      },
      "source": [
        "Now, let's try extraction of this schema using the `with_structured_output` method."
      ]
    },
    {
      "cell_type": "code",
      "execution_count": 15,
      "metadata": {
        "id": "n4Sp9rff7LyA",
        "outputId": "c4cfadc7-97e6-491c-c0c5-97640c0a3186",
        "colab": {
          "base_uri": "https://localhost:8080/"
        }
      },
      "outputs": [
        {
          "output_type": "stream",
          "name": "stdout",
          "text": [
            "1 validation error for TelegramAndTrustFallPreferences\n",
            "pertinent_user_preferences.communication_preferences.semaphore\n",
            "  Input should be a valid dictionary or instance of Semaphore [type=model_type, input_value=None, input_type=NoneType]\n",
            "    For further information visit https://errors.pydantic.dev/2.10/v/model_type\n"
          ]
        }
      ],
      "source": [
        "from pydantic import ValidationError\n",
        "\n",
        "# Bind schema to model\n",
        "model_with_structure = model.with_structured_output(TelegramAndTrustFallPreferences)\n",
        "\n",
        "# Conversation\n",
        "conversation = \"\"\"Operator: How may I assist with your telegram, sir?\n",
        "Customer: I need to send a message about our trust fall exercise.\n",
        "Operator: Certainly. Morse code or standard encoding?\n",
        "Customer: Morse, please. I love using a straight key.\n",
        "Operator: Excellent. What's your message?\n",
        "Customer: Tell him I'm ready for a higher fall, and I prefer the diamond formation for catching.\n",
        "Operator: Done. Shall I use our \"Daredevil\" paper for this daring message?\n",
        "Customer: Perfect! Send it by your fastest carrier pigeon.\n",
        "Operator: It'll be there within the hour, sir.\"\"\"\n",
        "\n",
        "# Invoke the model\n",
        "try:\n",
        "    model_with_structure.invoke(f\"\"\"Extract the preferences from the following conversation:\n",
        "    <convo>\n",
        "    {conversation}\n",
        "    </convo>\"\"\")\n",
        "except ValidationError as e:\n",
        "    print(e)"
      ]
    },
    {
      "cell_type": "markdown",
      "metadata": {
        "id": "kC9Lzbd47LyA"
      },
      "source": [
        "**If we naively extract more complex schemas, even using high capacity model like `gpt-4o`, it is prone to failure.**\n"
      ]
    },
    {
      "cell_type": "markdown",
      "metadata": {
        "id": "7uXZ_Fcc7LyA"
      },
      "source": [
        "## Trustcall for creating and updating profile schemas\n",
        "\n",
        "As we can see, working with schemas can be tricky.\n",
        "\n",
        "- Complex schemas can be difficult to extract.\n",
        "- In addition, updating even simple schemas can pose challenges.\n",
        "\n",
        "Consider our above chatbot.\n",
        "\n",
        "We regenerated the profile schema *from scratch* each time we chose to save a new memory.\n",
        "\n",
        "This is inefficient, **potentially wasting model tokens** if the schema contains a lot of information to re-generate each time.\n",
        "\n",
        "Worse, we may loose information when regenerating the profile from scratch.\n",
        "\n",
        "Addressing these problems is the motivation for [TrustCall](https://github.com/hinthornw/trustcall)!\n",
        "\n",
        "This is an open-source library for updating JSON schemas developed by one [Will Fu-Hinthorn](https://github.com/hinthornw) on the LangChain team.\n",
        "\n",
        "It's motivated by exactly these challenges while working on memory.\n",
        "\n",
        "Let's first show simple usage of extraction with TrustCall on this list of [messages](https://python.langchain.com/docs/concepts/messages/).\n"
      ]
    },
    {
      "cell_type": "code",
      "execution_count": 16,
      "metadata": {
        "id": "N8zvm7LT7LyA"
      },
      "outputs": [],
      "source": [
        "# Conversation\n",
        "conversation = [HumanMessage(content=\"Hi, I'm Lance.\"),\n",
        "                AIMessage(content=\"Nice to meet you, Lance.\"),\n",
        "                HumanMessage(content=\"I really like biking around San Francisco.\")]"
      ]
    },
    {
      "cell_type": "markdown",
      "metadata": {
        "id": "6E29xbjN7LyA"
      },
      "source": [
        "We use `create_extractor`, passing in the model as well as our schema as a [tool](https://python.langchain.com/docs/concepts/tools/).\n",
        "\n",
        "With TrustCall, can supply the schema in various ways.\n",
        "\n",
        "For example, we can pass a JSON object / Python dictionary or Pydantic model.\n",
        "\n",
        "Under the hood, TrustCall uses [tool calling](https://python.langchain.com/docs/concepts/tool_calling/) to produce [structured output](https://python.langchain.com/docs/concepts/structured_outputs/) from an input list of [messages](https://python.langchain.com/docs/concepts/messages/).\n",
        "\n",
        "To force Trustcall to produce [structured output](https://python.langchain.com/docs/concepts/structured_outputs/), we can include the schema name in the `tool_choice` argument.\n",
        "\n",
        "We can invoke the extractor with  the above conversation."
      ]
    },
    {
      "cell_type": "code",
      "execution_count": 17,
      "metadata": {
        "id": "-6kXHiqn7LyA"
      },
      "outputs": [],
      "source": [
        "from trustcall import create_extractor\n",
        "\n",
        "# Schema\n",
        "class UserProfile(BaseModel):\n",
        "    \"\"\"User profile schema with typed fields\"\"\"\n",
        "    user_name: str = Field(description=\"The user's preferred name\")\n",
        "    interests: List[str] = Field(description=\"A list of the user's interests\")\n",
        "\n",
        "# Initialize the model\n",
        "model = ChatOpenAI(model=\"gpt-4o\", temperature=0)\n",
        "\n",
        "# Create the extractor\n",
        "trustcall_extractor = create_extractor(\n",
        "    model,\n",
        "    tools=[UserProfile],\n",
        "    tool_choice=\"UserProfile\"\n",
        ")\n",
        "\n",
        "# Instruction\n",
        "system_msg = \"Extract the user profile from the following conversation\"\n",
        "\n",
        "# Invoke the extractor\n",
        "result = trustcall_extractor.invoke({\"messages\": [SystemMessage(content=system_msg)]+conversation})"
      ]
    },
    {
      "cell_type": "markdown",
      "metadata": {
        "id": "zqLRlI7s7LyA"
      },
      "source": [
        "When we invoke the extractor, we get a few things:\n",
        "\n",
        "* `messages`: The list of `AIMessages` that contain the tool calls.\n",
        "* `responses`: The resulting parsed tool calls that match our schema.\n",
        "* `response_metadata`: Applicable if updating existing tool calls. It says which of the responses correspond to which of the existing objects.\n"
      ]
    },
    {
      "cell_type": "markdown",
      "source": [
        "Proviamo a vedere l'output della chiamata al modello `result[\"messages\"]`. Come si vede, dietro le quinte è stato chiamato un tool. I parametri della chiamata sono le properties dello schema `UserProfile`"
      ],
      "metadata": {
        "id": "YymT8DzHIkzj"
      }
    },
    {
      "cell_type": "code",
      "execution_count": 18,
      "metadata": {
        "id": "uHZR-wPs7LyA",
        "outputId": "308cc3d1-d6db-4bca-f9df-9714c65f888e",
        "colab": {
          "base_uri": "https://localhost:8080/"
        }
      },
      "outputs": [
        {
          "output_type": "stream",
          "name": "stdout",
          "text": [
            "==================================\u001b[1m Ai Message \u001b[0m==================================\n",
            "Tool Calls:\n",
            "  UserProfile (call_MQta1ZkLDWaYEQcNq4IwI10K)\n",
            " Call ID: call_MQta1ZkLDWaYEQcNq4IwI10K\n",
            "  Args:\n",
            "    user_name: Lance\n",
            "    interests: ['biking', 'San Francisco']\n"
          ]
        }
      ],
      "source": [
        "for m in result[\"messages\"]:\n",
        "    m.pretty_print()"
      ]
    },
    {
      "cell_type": "markdown",
      "source": [
        "Proviamo ora a vedere `result[\"responses\"]`, dove abbiamo l'elenco di oggetti strutturati identificati. Ricorda che UserProfile è un oggetto pydantic."
      ],
      "metadata": {
        "id": "pRfsuezuI4B2"
      }
    },
    {
      "cell_type": "code",
      "execution_count": 19,
      "metadata": {
        "id": "6aEiaV9Z7LyA",
        "outputId": "8381ca08-4757-4a2a-85f8-634402f5c5e6",
        "colab": {
          "base_uri": "https://localhost:8080/"
        }
      },
      "outputs": [
        {
          "output_type": "execute_result",
          "data": {
            "text/plain": [
              "[UserProfile(user_name='Lance', interests=['biking', 'San Francisco'])]"
            ]
          },
          "metadata": {},
          "execution_count": 19
        }
      ],
      "source": [
        "schema = result[\"responses\"]\n",
        "schema"
      ]
    },
    {
      "cell_type": "markdown",
      "source": [
        "Mandiamo in output il primo (e unico) elemento, convertendolo in dict con `model_dump()`"
      ],
      "metadata": {
        "id": "op82iqqFJRuI"
      }
    },
    {
      "cell_type": "code",
      "execution_count": 20,
      "metadata": {
        "id": "I-8MHLme7LyB",
        "outputId": "3786ce15-a074-4609-c5fd-51882813a73f",
        "colab": {
          "base_uri": "https://localhost:8080/"
        }
      },
      "outputs": [
        {
          "output_type": "execute_result",
          "data": {
            "text/plain": [
              "{'user_name': 'Lance', 'interests': ['biking', 'San Francisco']}"
            ]
          },
          "metadata": {},
          "execution_count": 20
        }
      ],
      "source": [
        "schema[0].model_dump()"
      ]
    },
    {
      "cell_type": "markdown",
      "source": [
        "Ultimo pezzo della chiamata a Trustcall è `result[\"response_metadata\"]`, di cui vedremo l'utilizzo a breve"
      ],
      "metadata": {
        "id": "N4O9TsWhJG6O"
      }
    },
    {
      "cell_type": "code",
      "execution_count": null,
      "metadata": {
        "id": "DjWWyHkm7LyB",
        "outputId": "ecf0d88b-4d99-4264-cc2f-c29dfb66c612"
      },
      "outputs": [
        {
          "data": {
            "text/plain": [
              "[{'id': 'call_spGGUsoaUFXU7oOrUNCASzfL'}]"
            ]
          },
          "execution_count": 20,
          "metadata": {},
          "output_type": "execute_result"
        }
      ],
      "source": [
        "result[\"response_metadata\"]"
      ]
    },
    {
      "cell_type": "markdown",
      "metadata": {
        "id": "Gs-HQSzA7LyB"
      },
      "source": [
        "Let's see how we can use it to *update* the profile.\n",
        "\n",
        "For updating, TrustCall takes a set of messages as well as the existing schema.\n",
        "\n",
        "The central idea is that it prompts the model to produce a [JSON Patch](https://jsonpatch.com/) to update only the relevant parts of the schema.\n",
        "\n",
        "This is less error-prone than naively overwriting the entire schema.\n",
        "\n",
        "It's also more efficient since the model only needs to generate the parts of the schema that have changed.\n",
        "\n",
        "We can save the existing schema as a dict.\n",
        "\n",
        "We can use `model_dump()` to serialize a Pydantic model instance into a dict.\n",
        "\n",
        "We pass it to the `\"existing\"` argument along with the schema name, `UserProfile`."
      ]
    },
    {
      "cell_type": "code",
      "execution_count": 21,
      "metadata": {
        "id": "lpeC_WyK7LyB"
      },
      "outputs": [],
      "source": [
        "# Update the conversation\n",
        "updated_conversation = [HumanMessage(content=\"Hi, I'm Lance.\"),\n",
        "                        AIMessage(content=\"Nice to meet you, Lance.\"),\n",
        "                        HumanMessage(content=\"I really like biking around San Francisco.\"),\n",
        "                        AIMessage(content=\"San Francisco is a great city! Where do you go after biking?\"),\n",
        "                        HumanMessage(content=\"I really like to go to a bakery after biking.\"),]\n",
        "\n",
        "# Update the instruction\n",
        "system_msg = f\"\"\"Update the memory (JSON doc) to incorporate new information from the following conversation\"\"\"\n",
        "\n",
        "# Invoke the extractor with the updated instruction and existing profile with the corresponding tool name (UserProfile)\n",
        "result = trustcall_extractor.invoke({\"messages\": [SystemMessage(content=system_msg)]+updated_conversation},\n",
        "                                    {\"existing\": {\"UserProfile\": schema[0].model_dump()}})"
      ]
    },
    {
      "cell_type": "code",
      "execution_count": 22,
      "metadata": {
        "id": "WsS-kpix7LyC",
        "outputId": "a6f7389e-deec-4022-f108-e37f6c7ef43d",
        "colab": {
          "base_uri": "https://localhost:8080/"
        }
      },
      "outputs": [
        {
          "output_type": "stream",
          "name": "stdout",
          "text": [
            "==================================\u001b[1m Ai Message \u001b[0m==================================\n",
            "Tool Calls:\n",
            "  UserProfile (call_LqSGAHpcWV1DI3xbOkwxpfh7)\n",
            " Call ID: call_LqSGAHpcWV1DI3xbOkwxpfh7\n",
            "  Args:\n",
            "    user_name: Lance\n",
            "    interests: ['biking', 'visiting bakeries']\n"
          ]
        }
      ],
      "source": [
        "for m in result[\"messages\"]:\n",
        "    m.pretty_print()"
      ]
    },
    {
      "cell_type": "code",
      "execution_count": 23,
      "metadata": {
        "id": "rx2YwOPQ7LyC",
        "outputId": "c2d67abe-31de-46fd-f65b-c02ecd74259f",
        "colab": {
          "base_uri": "https://localhost:8080/"
        }
      },
      "outputs": [
        {
          "output_type": "execute_result",
          "data": {
            "text/plain": [
              "[{'id': 'call_LqSGAHpcWV1DI3xbOkwxpfh7'}]"
            ]
          },
          "metadata": {},
          "execution_count": 23
        }
      ],
      "source": [
        "result[\"response_metadata\"]"
      ]
    },
    {
      "cell_type": "code",
      "execution_count": 24,
      "metadata": {
        "id": "Kmc9HEmx7LyC",
        "outputId": "dd351c52-a1b6-45fb-cb09-a8bd4e55fc15",
        "colab": {
          "base_uri": "https://localhost:8080/"
        }
      },
      "outputs": [
        {
          "output_type": "execute_result",
          "data": {
            "text/plain": [
              "{'user_name': 'Lance', 'interests': ['biking', 'visiting bakeries']}"
            ]
          },
          "metadata": {},
          "execution_count": 24
        }
      ],
      "source": [
        "updated_schema = result[\"responses\"][0]\n",
        "updated_schema.model_dump()"
      ]
    },
    {
      "cell_type": "markdown",
      "metadata": {
        "id": "5zfQIvyc7LyC"
      },
      "source": [
        "LangSmith trace:\n",
        "\n",
        "https://smith.langchain.com/public/229eae22-1edb-44c6-93e6-489124a43968/r\n",
        "\n",
        "Now, let's also test Trustcall on the [challenging schema](https://github.com/hinthornw/trustcall?tab=readme-ov-file#complex-schema) that we saw earlier."
      ]
    },
    {
      "cell_type": "code",
      "execution_count": 25,
      "metadata": {
        "id": "BWNTXTt37LyC",
        "outputId": "b3d8b222-1d94-4141-d553-a7f1ccbc19fb",
        "colab": {
          "base_uri": "https://localhost:8080/"
        }
      },
      "outputs": [
        {
          "output_type": "execute_result",
          "data": {
            "text/plain": [
              "TelegramAndTrustFallPreferences(pertinent_user_preferences=UserPreferences(communication_preferences=CommunicationPreferences(telegram=TelegramPreferences(preferred_encoding=[OutputFormat(preference='Morse', sentence_preference_revealed='Morse code')], favorite_telegram_operators=None, preferred_telegram_paper=[OutputFormat(preference='Daredevil', sentence_preference_revealed='Daredevil paper')]), morse_code=MorseCode(preferred_key_type=[OutputFormat(preference='straight key', sentence_preference_revealed='I love using a straight key')], favorite_morse_abbreviations=None), semaphore=Semaphore(preferred_flag_color=None, semaphore_skill_level=None)), trust_fall_preferences=TrustFallPreferences(preferred_fall_height=[OutputFormat(preference='higher', sentence_preference_revealed=\"I'm ready for a higher fall\")], trust_level=None, preferred_catching_technique=[OutputFormat(preference='diamond formation', sentence_preference_revealed='I prefer the diamond formation for catching')])))"
            ]
          },
          "metadata": {},
          "execution_count": 25
        }
      ],
      "source": [
        "bound = create_extractor(\n",
        "    model,\n",
        "    tools=[TelegramAndTrustFallPreferences],\n",
        "    tool_choice=\"TelegramAndTrustFallPreferences\",\n",
        ")\n",
        "\n",
        "# Conversation\n",
        "conversation = \"\"\"Operator: How may I assist with your telegram, sir?\n",
        "Customer: I need to send a message about our trust fall exercise.\n",
        "Operator: Certainly. Morse code or standard encoding?\n",
        "Customer: Morse, please. I love using a straight key.\n",
        "Operator: Excellent. What's your message?\n",
        "Customer: Tell him I'm ready for a higher fall, and I prefer the diamond formation for catching.\n",
        "Operator: Done. Shall I use our \"Daredevil\" paper for this daring message?\n",
        "Customer: Perfect! Send it by your fastest carrier pigeon.\n",
        "Operator: It'll be there within the hour, sir.\"\"\"\n",
        "\n",
        "result = bound.invoke(\n",
        "    f\"\"\"Extract the preferences from the following conversation:\n",
        "<convo>\n",
        "{conversation}\n",
        "</convo>\"\"\"\n",
        ")\n",
        "\n",
        "# Extract the preferences\n",
        "result[\"responses\"][0]"
      ]
    },
    {
      "cell_type": "markdown",
      "metadata": {
        "id": "_A_6Fw0c7LyD"
      },
      "source": [
        "Trace:\n",
        "\n",
        "https://smith.langchain.com/public/5cd23009-3e05-4b00-99f0-c66ee3edd06e/r\n",
        "\n",
        "For more examples, you can see an overview video [here](https://www.youtube.com/watch?v=-H4s0jQi-QY)."
      ]
    },
    {
      "cell_type": "markdown",
      "metadata": {
        "id": "QGSQpnYO7LyD"
      },
      "source": [
        "## Chatbot with profile schema updating\n",
        "\n",
        "Now, let's bring Trustcall into our chatbot to create *and update* a memory profile."
      ]
    },
    {
      "cell_type": "code",
      "execution_count": 26,
      "metadata": {
        "id": "FWyowynV7LyD",
        "outputId": "0d8da727-bf87-4cbc-89e5-68f8423a9d6c",
        "colab": {
          "base_uri": "https://localhost:8080/",
          "height": 350
        }
      },
      "outputs": [
        {
          "output_type": "display_data",
          "data": {
            "image/png": "[encoded data removed]",
            "text/plain": [
              "<IPython.core.display.Image object>"
            ]
          },
          "metadata": {}
        }
      ],
      "source": [
        "from IPython.display import Image, display\n",
        "\n",
        "from langchain_core.messages import HumanMessage, SystemMessage\n",
        "from langgraph.graph import StateGraph, MessagesState, START, END\n",
        "from langchain_core.runnables.config import RunnableConfig\n",
        "from langgraph.checkpoint.memory import MemorySaver\n",
        "from langgraph.store.base import BaseStore\n",
        "\n",
        "# Initialize the model\n",
        "model = ChatOpenAI(model=\"gpt-4o\", temperature=0)\n",
        "\n",
        "# Schema\n",
        "class UserProfile(BaseModel):\n",
        "    \"\"\" Profile of a user \"\"\"\n",
        "    user_name: str = Field(description=\"The user's preferred name\")\n",
        "    user_location: str = Field(description=\"The user's location\")\n",
        "    interests: list = Field(description=\"A list of the user's interests\")\n",
        "\n",
        "# Create the extractor\n",
        "trustcall_extractor = create_extractor(\n",
        "    model,\n",
        "    tools=[UserProfile],\n",
        "    tool_choice=\"UserProfile\", # Enforces use of the UserProfile tool\n",
        ")\n",
        "\n",
        "# Chatbot instruction\n",
        "MODEL_SYSTEM_MESSAGE = \"\"\"You are a helpful assistant with memory that provides information about the user.\n",
        "If you have memory for this user, use it to personalize your responses.\n",
        "Here is the memory (it may be empty): {memory}\"\"\"\n",
        "\n",
        "# Extraction instruction\n",
        "TRUSTCALL_INSTRUCTION = \"\"\"Create or update the memory (JSON doc) to incorporate information from the following conversation:\"\"\"\n",
        "\n",
        "def call_model(state: MessagesState, config: RunnableConfig, store: BaseStore):\n",
        "\n",
        "    \"\"\"Load memory from the store and use it to personalize the chatbot's response.\"\"\"\n",
        "\n",
        "    # Get the user ID from the config\n",
        "    user_id = config[\"configurable\"][\"user_id\"]\n",
        "\n",
        "    # Retrieve memory from the store (a UserProfile object)\n",
        "    namespace = (\"memory\", user_id)\n",
        "    existing_memory = store.get(namespace, \"user_memory\")\n",
        "\n",
        "    # Format the memories for the system prompt\n",
        "    if existing_memory and existing_memory.value:\n",
        "        memory_dict = existing_memory.value\n",
        "        formatted_memory = (\n",
        "            f\"Name: {memory_dict.get('user_name', 'Unknown')}\\n\"\n",
        "            f\"Location: {memory_dict.get('user_location', 'Unknown')}\\n\"\n",
        "            f\"Interests: {', '.join(memory_dict.get('interests', []))}\"\n",
        "        )\n",
        "    else:\n",
        "        formatted_memory = None\n",
        "\n",
        "    # Format the memory in the system prompt\n",
        "    system_msg = MODEL_SYSTEM_MESSAGE.format(memory=formatted_memory)\n",
        "\n",
        "    # Respond using memory as well as the chat history\n",
        "    response = model.invoke([SystemMessage(content=system_msg)]+state[\"messages\"])\n",
        "\n",
        "    return {\"messages\": response}\n",
        "\n",
        "def write_memory(state: MessagesState, config: RunnableConfig, store: BaseStore):\n",
        "\n",
        "    \"\"\"Reflect on the chat history and save a memory to the store.\"\"\"\n",
        "\n",
        "    # Get the user ID from the config\n",
        "    user_id = config[\"configurable\"][\"user_id\"]\n",
        "\n",
        "    # Retrieve existing memory from the store\n",
        "    namespace = (\"memory\", user_id)\n",
        "    existing_memory = store.get(namespace, \"user_memory\")\n",
        "\n",
        "    # Get the profile as the value from the list, and convert it to a JSON doc\n",
        "    existing_profile = {\"UserProfile\": existing_memory.value} if existing_memory else None\n",
        "\n",
        "    # Invoke the extractor\n",
        "    result = trustcall_extractor.invoke({\"messages\": [SystemMessage(content=TRUSTCALL_INSTRUCTION)]+state[\"messages\"], \"existing\": existing_profile})\n",
        "\n",
        "    # Get the updated profile as a JSON object\n",
        "    updated_profile = result[\"responses\"][0].model_dump()\n",
        "\n",
        "    # Save the updated profile\n",
        "    key = \"user_memory\"\n",
        "    store.put(namespace, key, updated_profile)\n",
        "\n",
        "# Define the graph\n",
        "builder = StateGraph(MessagesState)\n",
        "builder.add_node(\"call_model\", call_model)\n",
        "builder.add_node(\"write_memory\", write_memory)\n",
        "builder.add_edge(START, \"call_model\")\n",
        "builder.add_edge(\"call_model\", \"write_memory\")\n",
        "builder.add_edge(\"write_memory\", END)\n",
        "\n",
        "# Store for long-term (across-thread) memory\n",
        "across_thread_memory = InMemoryStore()\n",
        "\n",
        "# Checkpointer for short-term (within-thread) memory\n",
        "within_thread_memory = MemorySaver()\n",
        "\n",
        "# Compile the graph with the checkpointer fir and store\n",
        "graph = builder.compile(checkpointer=within_thread_memory, store=across_thread_memory)\n",
        "\n",
        "# View\n",
        "display(Image(graph.get_graph(xray=1).draw_mermaid_png()))"
      ]
    },
    {
      "cell_type": "code",
      "execution_count": 27,
      "metadata": {
        "id": "RdfnR_vt7LyD",
        "outputId": "a8e2e2d5-3680-4b2f-a334-5aa50be7001d",
        "colab": {
          "base_uri": "https://localhost:8080/"
        }
      },
      "outputs": [
        {
          "output_type": "stream",
          "name": "stdout",
          "text": [
            "================================\u001b[1m Human Message \u001b[0m=================================\n",
            "\n",
            "Hi, my name is Lance\n",
            "==================================\u001b[1m Ai Message \u001b[0m==================================\n",
            "\n",
            "Hello, Lance! It's great to meet you. How can I assist you today?\n"
          ]
        }
      ],
      "source": [
        "# We supply a thread ID for short-term (within-thread) memory\n",
        "# We supply a user ID for long-term (across-thread) memory\n",
        "config = {\"configurable\": {\"thread_id\": \"1\", \"user_id\": \"1\"}}\n",
        "\n",
        "# User input\n",
        "input_messages = [HumanMessage(content=\"Hi, my name is Lance\")]\n",
        "\n",
        "# Run the graph\n",
        "for chunk in graph.stream({\"messages\": input_messages}, config, stream_mode=\"values\"):\n",
        "    chunk[\"messages\"][-1].pretty_print()"
      ]
    },
    {
      "cell_type": "code",
      "execution_count": 28,
      "metadata": {
        "id": "Dtn_eJmo7LyD",
        "outputId": "c739895f-297a-48fd-ca2b-90786bad8a8e",
        "colab": {
          "base_uri": "https://localhost:8080/"
        }
      },
      "outputs": [
        {
          "output_type": "stream",
          "name": "stdout",
          "text": [
            "================================\u001b[1m Human Message \u001b[0m=================================\n",
            "\n",
            "I like to bike around San Francisco\n",
            "==================================\u001b[1m Ai Message \u001b[0m==================================\n",
            "\n",
            "That sounds like a fantastic way to explore the city! San Francisco has some great biking routes. Do you have a favorite trail or area you like to ride in?\n"
          ]
        }
      ],
      "source": [
        "# User input\n",
        "input_messages = [HumanMessage(content=\"I like to bike around San Francisco\")]\n",
        "\n",
        "# Run the graph\n",
        "for chunk in graph.stream({\"messages\": input_messages}, config, stream_mode=\"values\"):\n",
        "    chunk[\"messages\"][-1].pretty_print()"
      ]
    },
    {
      "cell_type": "code",
      "execution_count": 31,
      "metadata": {
        "id": "YLgPZeJg7LyD",
        "outputId": "e6d58fd3-4e10-4e62-eeee-156c88374eb7",
        "colab": {
          "base_uri": "https://localhost:8080/"
        }
      },
      "outputs": [
        {
          "output_type": "execute_result",
          "data": {
            "text/plain": [
              "{'namespace': ['memory', '1'],\n",
              " 'key': 'user_memory',\n",
              " 'value': {'user_name': 'Lance',\n",
              "  'user_location': 'San Francisco',\n",
              "  'interests': ['biking']},\n",
              " 'created_at': '2024-12-27T17:27:18.422466+00:00',\n",
              " 'updated_at': '2024-12-27T17:27:18.422468+00:00'}"
            ]
          },
          "metadata": {},
          "execution_count": 31
        }
      ],
      "source": [
        "# Namespace for the memory to save\n",
        "user_id = \"1\"\n",
        "namespace = (\"memory\", user_id)\n",
        "existing_memory = across_thread_memory.get(namespace, \"user_memory\")\n",
        "existing_memory.dict()"
      ]
    },
    {
      "cell_type": "code",
      "execution_count": 32,
      "metadata": {
        "id": "576oi5um7LyD",
        "outputId": "da205925-76e5-4f57-a5e7-f0b6283a06fd",
        "colab": {
          "base_uri": "https://localhost:8080/"
        }
      },
      "outputs": [
        {
          "output_type": "execute_result",
          "data": {
            "text/plain": [
              "{'user_name': 'Lance',\n",
              " 'user_location': 'San Francisco',\n",
              " 'interests': ['biking']}"
            ]
          },
          "metadata": {},
          "execution_count": 32
        }
      ],
      "source": [
        "# The user profile saved as a JSON object\n",
        "existing_memory.value"
      ]
    },
    {
      "cell_type": "code",
      "execution_count": 33,
      "metadata": {
        "id": "AQ015cN07LyD",
        "outputId": "297f01d7-1ecd-45a8-d7d0-3c235248d84a",
        "colab": {
          "base_uri": "https://localhost:8080/"
        }
      },
      "outputs": [
        {
          "output_type": "stream",
          "name": "stdout",
          "text": [
            "================================\u001b[1m Human Message \u001b[0m=================================\n",
            "\n",
            "I also enjoy going to bakeries\n",
            "==================================\u001b[1m Ai Message \u001b[0m==================================\n",
            "\n",
            "San Francisco has some amazing bakeries! Do you have a favorite bakery you like to visit after your rides, or are you looking for new recommendations?\n"
          ]
        }
      ],
      "source": [
        "# User input\n",
        "input_messages = [HumanMessage(content=\"I also enjoy going to bakeries\")]\n",
        "\n",
        "# Run the graph\n",
        "for chunk in graph.stream({\"messages\": input_messages}, config, stream_mode=\"values\"):\n",
        "    chunk[\"messages\"][-1].pretty_print()"
      ]
    },
    {
      "cell_type": "markdown",
      "metadata": {
        "id": "UUs4A9UQ7LyD"
      },
      "source": [
        "Continue the conversation in a new thread."
      ]
    },
    {
      "cell_type": "code",
      "execution_count": 34,
      "metadata": {
        "id": "tEp8Zdqh7LyD",
        "outputId": "3dd6a530-cf98-459c-9a9a-3e2141fd992c",
        "colab": {
          "base_uri": "https://localhost:8080/"
        }
      },
      "outputs": [
        {
          "output_type": "stream",
          "name": "stdout",
          "text": [
            "================================\u001b[1m Human Message \u001b[0m=================================\n",
            "\n",
            "What bakeries do you recommend for me?\n",
            "==================================\u001b[1m Ai Message \u001b[0m==================================\n",
            "\n",
            "Since you're in San Francisco and enjoy going to bakeries, here are a few recommendations you might like:\n",
            "\n",
            "1. **Tartine Bakery** - Known for its delicious bread and pastries, it's a must-visit for any bakery enthusiast.\n",
            "\n",
            "2. **B. Patisserie** - Offers a delightful selection of French pastries, including their famous kouign-amann.\n",
            "\n",
            "3. **Arsicault Bakery** - Renowned for its croissants, which have been praised as some of the best in the country.\n",
            "\n",
            "4. **Craftsman and Wolves** - A modern patisserie with inventive pastries and a unique twist on traditional favorites.\n",
            "\n",
            "5. **Mr. Holmes Bakehouse** - Famous for their cruffins and other creative baked goods.\n",
            "\n",
            "These spots should offer a great variety of treats for you to enjoy on your bakery adventures around the city!\n"
          ]
        }
      ],
      "source": [
        "# We supply a thread ID for short-term (within-thread) memory\n",
        "# We supply a user ID for long-term (across-thread) memory\n",
        "config = {\"configurable\": {\"thread_id\": \"2\", \"user_id\": \"1\"}}\n",
        "\n",
        "# User input\n",
        "input_messages = [HumanMessage(content=\"What bakeries do you recommend for me?\")]\n",
        "\n",
        "# Run the graph\n",
        "for chunk in graph.stream({\"messages\": input_messages}, config, stream_mode=\"values\"):\n",
        "    chunk[\"messages\"][-1].pretty_print()"
      ]
    },
    {
      "cell_type": "markdown",
      "metadata": {
        "id": "5ihKUlMh7LyE"
      },
      "source": [
        "Trace:\n",
        "\n",
        "https://smith.langchain.com/public/f45bdaf0-6963-4c19-8ec9-f4b7fe0f68ad/r\n",
        "\n",
        "## Studio\n",
        "\n",
        "![Screenshot 2024-10-30 at 11.26.31 AM.png](https://cdn.prod.website-files.com/65b8cd72835ceeacd4449a53/6732d0437060f1754ea79908_Screenshot%202024-11-11%20at%207.48.53%E2%80%AFPM.png)"
      ]
    },
    {
      "cell_type": "code",
      "execution_count": null,
      "metadata": {
        "id": "9jNYt_TG7LyE"
      },
      "outputs": [],
      "source": []
    }
  ],
  "metadata": {
    "kernelspec": {
      "display_name": "Python 3 (ipykernel)",
      "language": "python",
      "name": "python3"
    },
    "language_info": {
      "codemirror_mode": {
        "name": "ipython",
        "version": 3
      },
      "file_extension": ".py",
      "mimetype": "text/x-python",
      "name": "python",
      "nbconvert_exporter": "python",
      "pygments_lexer": "ipython3",
      "version": "3.11.8"
    },
    "colab": {
      "provenance": []
    }
  },
  "nbformat": 4,
  "nbformat_minor": 0
}